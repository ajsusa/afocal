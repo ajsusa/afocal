{
 "cells": [
  {
   "cell_type": "markdown",
   "source": [
    "# afocal window design notebook\n",
    "\n",
    "This notebook implements window-design calculations for curved-wall vessels, as described in:\n",
    "\"...\"."
   ],
   "metadata": {
    "collapsed": false,
    "pycharm": {
     "name": "#%% md\n"
    }
   }
  },
  {
   "cell_type": "markdown",
   "source": [
    "__Import statements:__ do not modify this cell"
   ],
   "metadata": {
    "collapsed": false,
    "pycharm": {
     "name": "#%% md\n"
    }
   }
  },
  {
   "cell_type": "code",
   "execution_count": null,
   "metadata": {
    "collapsed": true
   },
   "outputs": [],
   "source": [
    "import raytrace, windows, utilities\n",
    "import numpy as np\n",
    "import matplotlib.pyplot as plt"
   ]
  },
  {
   "cell_type": "markdown",
   "source": [
    "## Window design parameters"
   ],
   "metadata": {
    "collapsed": false,
    "pycharm": {
     "name": "#%% md\n"
    }
   }
  },
  {
   "cell_type": "markdown",
   "source": [
    "__Window types to design:__ set variables _True_ to perform design calculations or _False_ to skip calculation:"
   ],
   "metadata": {
    "collapsed": false
   }
  },
  {
   "cell_type": "code",
   "execution_count": null,
   "outputs": [],
   "source": [
    "design_concentric = True\n",
    "design_singlet = True"
   ],
   "metadata": {
    "collapsed": false,
    "pycharm": {
     "name": "#%%\n"
    }
   }
  },
  {
   "cell_type": "markdown",
   "source": [
    "__Modify these parameters to match the application for which windows are to be designed:__"
   ],
   "metadata": {
    "collapsed": false,
    "pycharm": {
     "name": "#%% md\n"
    }
   }
  },
  {
   "cell_type": "markdown",
   "source": [
    "_General/universal parameters:_"
   ],
   "metadata": {
    "collapsed": false
   }
  },
  {
   "cell_type": "code",
   "execution_count": null,
   "outputs": [],
   "source": [
    "inner_diameter = 11.53  # cm, inner diameter of curved-wall vessel\n",
    "window_height = 8.0  # cm\n",
    "design_wavelength = 530  # nm\n",
    "window_material = 'fused silica'\n",
    "\n",
    "n_o = 1.  # refractive index of medium outside vessel\n",
    "n_i = 1.  # refractive index of medium within vessel\n",
    "\n",
    "h_f = 1.0  # cm, size of inner retention flats"
   ],
   "metadata": {
    "collapsed": false,
    "pycharm": {
     "name": "#%%\n"
    }
   }
  },
  {
   "cell_type": "markdown",
   "source": [
    "_Concentric window parameters:_"
   ],
   "metadata": {
    "collapsed": false
   }
  },
  {
   "cell_type": "code",
   "execution_count": null,
   "outputs": [],
   "source": [
    "t_concentric = 2.5  # cm, thickness of the concentric window"
   ],
   "metadata": {
    "collapsed": false,
    "pycharm": {
     "name": "#%%\n"
    }
   }
  },
  {
   "cell_type": "markdown",
   "source": [
    "_Afocal singlet window parameters:_"
   ],
   "metadata": {
    "collapsed": false
   }
  },
  {
   "cell_type": "code",
   "execution_count": null,
   "outputs": [],
   "source": [
    "t_singlet = 2.5  # cm, thickness of the singlet window"
   ],
   "metadata": {
    "collapsed": false,
    "pycharm": {
     "name": "#%%\n"
    }
   }
  },
  {
   "cell_type": "markdown",
   "source": [
    "_Cemented doublet window parameters:_"
   ],
   "metadata": {
    "collapsed": false
   }
  },
  {
   "cell_type": "code",
   "execution_count": null,
   "outputs": [],
   "source": [],
   "metadata": {
    "collapsed": false,
    "pycharm": {
     "name": "#%%\n"
    }
   }
  },
  {
   "cell_type": "markdown",
   "source": [
    "## Concentric window design\n",
    "\n",
    "Concentric windows consist of a section of an annulus; concentric windows are inherently _not_ afocal."
   ],
   "metadata": {
    "collapsed": false
   }
  },
  {
   "cell_type": "code",
   "execution_count": null,
   "outputs": [],
   "source": [
    "if design_concentric:\n",
    "    # define concentric window geometry\n",
    "    Ri = inner_diameter / 2\n",
    "    Ro = Ri + t_concentric\n",
    "    h = window_height\n",
    "    t = t_concentric\n",
    "\n",
    "    # draw and ray trace the window\n",
    "    concentric = windows.Concentric(Ri, h, t, h_f, material=window_material, design_wavelength=design_wavelength,\n",
    "                                    n_o=n_o, n_i=n_i, draw=True, trace=True,\n",
    "                                    draw_rays=True)\n",
    "    utilities.plot_aberrations(concentric, unit='deg', c='r')\n",
    "\n",
    "    concentric.rays.rms_aberration(unit='deg')\n",
    "\n",
    "    # illustrate how rms aberration changes with thickness\n",
    "    ts = np.linspace(t / 2, 2 * t, 7)\n",
    "    abb_rms = np.zeros_like(ts)\n",
    "    abb_max = np.zeros_like(ts)\n",
    "\n",
    "    for i, t in enumerate(ts):\n",
    "        draw = False\n",
    "        concentric._t_1 = t\n",
    "        concentric.trace_ray_set(n_rays=201, draw=False, inplace=True)\n",
    "        abb_rms[i] = concentric.rays.rms_aberration(sets='success', unit='deg')\n",
    "        abb_max[i] = concentric.rays.max_aberration(sets='success', unit='deg')\n",
    "\n",
    "    plt.figure()\n",
    "    plt.plot(ts, abb_rms, ':ob', label='RMS')\n",
    "    plt.plot(ts, abb_max, ':or', label='Max')\n",
    "    plt.xlabel('Window Thickness (cm)')\n",
    "    plt.ylabel('Aberration (deg)')\n",
    "    plt.legend()"
   ],
   "metadata": {
    "collapsed": false,
    "pycharm": {
     "name": "#%%\n"
    }
   }
  },
  {
   "cell_type": "code",
   "execution_count": null,
   "outputs": [],
   "source": [
    "\n"
   ],
   "metadata": {
    "collapsed": false,
    "pycharm": {
     "name": "#%%\n"
    }
   }
  }
 ],
 "metadata": {
  "kernelspec": {
   "name": "p37susalab",
   "language": "python",
   "display_name": "p37susalab"
  },
  "language_info": {
   "codemirror_mode": {
    "name": "ipython",
    "version": 2
   },
   "file_extension": ".py",
   "mimetype": "text/x-python",
   "name": "python",
   "nbconvert_exporter": "python",
   "pygments_lexer": "ipython2",
   "version": "2.7.6"
  }
 },
 "nbformat": 4,
 "nbformat_minor": 0
}