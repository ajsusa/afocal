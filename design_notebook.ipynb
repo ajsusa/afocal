{
 "cells": [
  {
   "cell_type": "markdown",
   "metadata": {
    "pycharm": {
     "name": "#%% md\n"
    }
   },
   "source": [
    "# afocal window design notebook\n",
    "\n",
    "This notebook implements window-design calculations for curved-wall vessels, as described in:\n",
    "\"...\"."
   ]
  },
  {
   "cell_type": "markdown",
   "metadata": {
    "pycharm": {
     "name": "#%% md\n"
    }
   },
   "source": [
    "__Import statements:__ do not modify this cell"
   ]
  },
  {
   "cell_type": "code",
   "execution_count": null,
   "metadata": {},
   "outputs": [],
   "source": [
    "import windows\n",
    "import utilities as util  # import print_md, plot_aberrations\n",
    "import numpy as np\n",
    "from matplotlib import gridspec\n",
    "import matplotlib.pyplot as plt"
   ]
  },
  {
   "cell_type": "markdown",
   "metadata": {
    "pycharm": {
     "name": "#%% md\n"
    }
   },
   "source": [
    "## Window design parameters"
   ]
  },
  {
   "cell_type": "markdown",
   "metadata": {},
   "source": [
    "__Window types to design:__ set variables _True_ to perform design calculations or _False_ to skip calculation:"
   ]
  },
  {
   "cell_type": "markdown",
   "metadata": {
    "pycharm": {
     "name": "#%% md\n"
    }
   },
   "source": [
    "__Modify these parameters to match the application for which windows are to be designed:__"
   ]
  },
  {
   "cell_type": "markdown",
   "metadata": {},
   "source": [
    "_General/universal parameters:_"
   ]
  },
  {
   "cell_type": "code",
   "execution_count": null,
   "metadata": {
    "pycharm": {
     "name": "#%%\n"
    }
   },
   "outputs": [],
   "source": [
    "inner_diameter = 11.53  # cm, inner diameter of curved-wall vessel\n",
    "window_height = 8.0  # cm\n",
    "design_wavelength = 532  # nm\n",
    "window_material = 'fused silica'\n",
    "\n",
    "windows.set_n_o(1.)  # refractive index of medium outside vessel\n",
    "windows.set_n_i(1.)  # refractive index of medium within vessel\n",
    "\n",
    "h_f = 1.0  # cm, size of inner retention flats"
   ]
  },
  {
   "cell_type": "markdown",
   "metadata": {},
   "source": [
    "_Concentric window parameters:_"
   ]
  },
  {
   "cell_type": "code",
   "execution_count": null,
   "metadata": {
    "pycharm": {
     "name": "#%%\n"
    }
   },
   "outputs": [],
   "source": [
    "design_concentric = True\n",
    "\n",
    "t_concentric = 2.5  # cm, thickness of the concentric window"
   ]
  },
  {
   "cell_type": "markdown",
   "metadata": {},
   "source": [
    "_Afocal singlet window parameters:_"
   ]
  },
  {
   "cell_type": "code",
   "execution_count": null,
   "metadata": {
    "pycharm": {
     "name": "#%%\n"
    }
   },
   "outputs": [],
   "source": [
    "design_singlet = True\n",
    "\n",
    "t_singlet = 2.5  # cm, thickness of the singlet window"
   ]
  },
  {
   "cell_type": "markdown",
   "metadata": {},
   "source": [
    "_Cemented doublet window parameters:_"
   ]
  },
  {
   "cell_type": "code",
   "execution_count": null,
   "metadata": {
    "pycharm": {
     "name": "#%%\n"
    }
   },
   "outputs": [],
   "source": [
    "design_cemented_doublet = True\n",
    "\n",
    "crown_material = 'bk7'\n",
    "\n",
    "# guess values\n",
    "Rm_cemented = inner_diameter * 2  # cm, guess for the middle surface radius of curvatue\n",
    "Ro_cemented = inner_diameter * .6  # cm, guess for the outer surface radius of curvature\n",
    "t_cemented_base = 1.8  # cm, thickness of the cemented window base (wetted side)\n",
    "t_cemented_crown = 1.8  # cm, thickness of the cemented window crown (unwetted)\n",
    "draw_guess = True\n",
    "\n",
    "# optimization parameters\n",
    "cemented_opt_params = {'Rm': True, 'Ro': True,\n",
    "                       't_base': True, 't_crown': True}  # True to vary parameter, False to keep fixed\n",
    "cemented_bounds = {'t_base': [1.5, 4],\n",
    "                   't_crown': [1., 4]}  # bounds on the thicknesses of the elements; radii bounds set automatically"
   ]
  },
  {
   "cell_type": "markdown",
   "metadata": {},
   "source": [
    "_Air-spaced doublet window parameters:_"
   ]
  },
  {
   "cell_type": "code",
   "execution_count": null,
   "metadata": {
    "pycharm": {
     "name": "#%%\n"
    }
   },
   "outputs": [],
   "source": [
    "design_airspace_doublet = True\n",
    "\n",
    "lens_material = 'bk7'\n",
    "\n",
    "# guess values\n",
    "t_airspace_window = 1.5  # cm, thickness of the cemented window base (wetted side)\n",
    "x_airspace = 2\n",
    "Ri_airspace_lens = 1.1 * inner_diameter\n",
    "Ro_airspace_lens = 0.9 * inner_diameter\n",
    "t_airspace_lens = 0.8  # cm, thickness of the cemented window crown (unwetted)\n",
    "h_airspace_lens = window_height\n",
    "\n",
    "draw_guess = True\n",
    "\n",
    "# optimization parameters\n",
    "cemented_opt_params = {'Rm': True, 'Ro': True,\n",
    "                       't_base': True, 't_crown': True}  # True to vary parameter, False to keep fixed\n",
    "cemented_bounds = {'t_base': [1.5, 4],\n",
    "                   't_crown': [1., 4]}  # bounds on the thicknesses of the elements; radii bounds set automatically"
   ]
  },
  {
   "cell_type": "markdown",
   "metadata": {},
   "source": [
    "# Concentric/Annular window design\n",
    "\n",
    "Concentric windows consist of a section of an annulus; concentric windows are inherently _not_ afocal."
   ]
  },
  {
   "cell_type": "code",
   "execution_count": null,
   "metadata": {
    "pycharm": {
     "name": "#%%\n"
    },
    "scrolled": false
   },
   "outputs": [],
   "source": [
    "if design_concentric:\n",
    "    # define concentric window geometry\n",
    "    Ri = inner_diameter / 2\n",
    "    Ro = Ri + t_concentric\n",
    "    h = window_height\n",
    "    t = t_concentric\n",
    "\n",
    "    # draw and ray trace the window\n",
    "    util.print_md('__Concentric Window as Specified__')\n",
    "    concentric = windows.Concentric(Ri, h, t, h_f, material=window_material, design_wavelength=design_wavelength,\n",
    "                                    draw=False, trace=True, draw_rays=False)\n",
    "    \n",
    "    concentric.print_dims()\n",
    "\n",
    "    fig, axs = util.ray_aberration_subplots()\n",
    "    plt.sca(axs[0])\n",
    "    concentric.draw_annulus(ls=':')\n",
    "    concentric.draw(new_figure=False)\n",
    "    plt.ylim(concentric.Ri * np.array([-1.1, 1.1]))\n",
    "    concentric.draw_rays(sets='success')\n",
    "    concentric.draw_rays(sets='failed', ls=':')\n",
    "\n",
    "    plt.sca(axs[1])\n",
    "    axs[1].yaxis.set_label_position(\"right\")\n",
    "    util.plot_aberrations(concentric, unit='deg', c='r', new_fig=False,\n",
    "                          yloc='out', flip_axes=True)\n",
    "    plt.show()\n",
    "\n",
    "\n",
    "    util.print_md('__Concentric Window Aberration vs. Thickness__')\n",
    "    ts = np.linspace(t / 2, 2 * t, 7)\n",
    "    abb_rms = np.zeros_like(ts)\n",
    "    abb_max = np.zeros_like(ts)\n",
    "\n",
    "    for i, t in enumerate(ts):\n",
    "        draw = False\n",
    "        concentric._t_1 = t\n",
    "        concentric.trace_ray_set(n_rays=31, draw=False, inplace=True)\n",
    "        abb_rms[i] = concentric.rays.rms_aberration(sets='all', unit='deg')\n",
    "        abb_max[i] = concentric.rays.max_aberration(sets='all', unit='deg')\n",
    "\n",
    "    plt.figure()\n",
    "    plt.plot(ts, abb_rms, ':ob', label='RMS')\n",
    "    plt.plot(ts, abb_max, ':or', label='Max')\n",
    "    plt.xlabel('Window Thickness (cm)')\n",
    "    plt.ylabel('Aberration (deg)')\n",
    "    plt.legend()"
   ]
  },
  {
   "cell_type": "markdown",
   "metadata": {},
   "source": [
    "# Afocal singlet window design"
   ]
  },
  {
   "cell_type": "code",
   "execution_count": null,
   "metadata": {
    "pycharm": {
     "name": "#%%\n"
    },
    "scrolled": false
   },
   "outputs": [],
   "source": [
    "if design_singlet:\n",
    "    # define singlet window geometry\n",
    "    Ri = inner_diameter / 2\n",
    "    h = window_height\n",
    "    t = 2.0  # t_singlet\n",
    "\n",
    "    show_chromatic_aberration = False\n",
    "\n",
    "    singlet = windows.ZeroPowerSinglet(Ri, h, t, h_f=h_f, material=window_material,\n",
    "                                       design_wavelength=design_wavelength, draw=False,\n",
    "                                       trace=True, draw_rays=False)\n",
    "\n",
    "    methods, cs, hs = ['analytical', 'rms_aberration', 'max_aberration'], ['g', 'r', 'b'], []\n",
    "    for Ro_method, c in zip(methods, cs):\n",
    "\n",
    "        singlet.optimize_Ro(Ro_method, inplace=True)\n",
    "\n",
    "        util.print_md(f\"__Optimization Criteria:__ '{Ro_method}'\")\n",
    "        singlet.print_dims()\n",
    "        \n",
    "        fig, axs = util.ray_aberration_subplots()\n",
    "\n",
    "        # draw and ray trace the window\n",
    "        plt.sca(axs[0])\n",
    "        singlet.draw(center_circle=True, new_figure=False)\n",
    "        singlet.draw_rays(c=c)\n",
    "\n",
    "        plt.sca(axs[1])\n",
    "        # plt.axhline(ls=':', c='k')\n",
    "        util.plot_aberrations(singlet, unit='arcmin', c=c, new_fig=False, ls='-', yloc='out', flip_axes=True,\n",
    "                              failed=False, prefix='Design Wavelength')\n",
    "        hs += plt.gca().lines[-1:]\n",
    "        if show_chromatic_aberration:\n",
    "            util.plot_aberrations(singlet.trace_ray_set(wavelength=400, draw=False), yloc='out', flip_axes=True,\n",
    "                                  failed=False, new_fig=False, unit='arcmin', c='y', mfc='none', ls='', prefix='400 nm')\n",
    "            util.plot_aberrations(singlet.trace_ray_set(wavelength=750, draw=False), yloc='out', flip_axes=True,\n",
    "                                  failed=False, new_fig=False, unit='arcmin', c='m', mfc='none', ls='', prefix='750 nm')\n",
    "\n",
    "        plt.show()\n",
    "\n",
    "    # ###############################################################\n",
    "    util.print_md(f'__Comparison of Aberrations by Design Criteria__')\n",
    "\n",
    "    plt.figure()\n",
    "    ax = plt.gcf().add_subplot(111)\n",
    "    ax.axhline(0, c='k', ls=':')\n",
    "    for label, h, c in zip(methods, hs, cs):\n",
    "        plt.plot(*h.get_data()[::-1], '-o', c=c, label=label)\n",
    "    plt.legend()\n",
    "    plt.ylabel(f'Angular Aberration (arcmin)')\n",
    "    plt.xlabel('Outgoing Y-Position (cm)')\n",
    "    plt.show()\n",
    "    \n",
    "    # ###############################################################\n",
    "    util.print_md('__Afocal Singlet Window Aberration vs. Thickness__')\n",
    "    \n",
    "    Ro_method = 'analytical'\n",
    "    ts = np.linspace(t / 2, 2 * t, 7)\n",
    "    abb_rms = np.zeros_like(ts)\n",
    "    abb_max = np.zeros_like(ts)\n",
    "\n",
    "    for i, t in enumerate(ts):\n",
    "        draw = False\n",
    "        singlet._t_1 = t\n",
    "        singlet.optimize_Ro(Ro_method, inplace=True)\n",
    "        singlet.trace_ray_set(n_rays=31, draw=False, inplace=True)\n",
    "        abb_rms[i] = singlet.rays.rms_aberration(sets='all', unit='arcmin')\n",
    "        abb_max[i] = singlet.rays.max_aberration(sets='all', unit='arcmin')\n",
    "\n",
    "    plt.figure()\n",
    "    plt.plot(ts, abb_rms, ':ob', label='RMS')\n",
    "    plt.plot(ts, abb_max, ':or', label='Max')\n",
    "    plt.xlabel('Window Thickness (cm)')\n",
    "    plt.ylabel('Aberration (arcmin)')\n",
    "    plt.legend()\n",
    "    plt.show()\n",
    "    \n",
    "    # ###############################################################\n",
    "    util.print_md(f'__Chromatic Aberrations__')\n",
    "\n",
    "    Ro_method = 'analytical'\n",
    "    singlet.optimize_Ro(Ro_method, inplace=True)\n",
    "\n",
    "    util.plot_aberrations(singlet, unit='arcmin', c='g', new_fig=True,\n",
    "                          ls='-', failed=False, prefix=f'Design Wavelength: {singlet.design_wavelength:3.0f} nm')\n",
    "    util.plot_aberrations(singlet.trace_ray_set(wavelength=400, draw=False),\n",
    "                          failed=False, new_fig=False,\n",
    "                          unit='arcmin', c='m', prefix='400 nm')\n",
    "    util.plot_aberrations(singlet.trace_ray_set(wavelength=750, draw=False),\n",
    "                          failed=False, new_fig=False,\n",
    "                          unit='arcmin', c='r', prefix='750 nm')\n",
    "    plt.axhline(0, c='k', ls=':')\n"
   ]
  },
  {
   "cell_type": "markdown",
   "metadata": {},
   "source": [
    "# Cemented doublet window design"
   ]
  },
  {
   "cell_type": "code",
   "execution_count": null,
   "metadata": {
    "pycharm": {
     "name": "#%%\n"
    },
    "scrolled": false
   },
   "outputs": [],
   "source": [
    "if design_cemented_doublet:\n",
    "    \n",
    "    show_chromatic_aberration = False\n",
    "    \n",
    "    # define cemented doublet window geometry\n",
    "    Ri = inner_diameter / 2\n",
    "    h = window_height\n",
    "    \n",
    "    # guess values\n",
    "    Rm, Ro = Rm_cemented, Ro_cemented\n",
    "    t1, t2 = t_cemented_base, t_cemented_crown\n",
    "    \n",
    "    # optimization options\n",
    "    which_params = [cemented_opt_params.get(p, True) for p in windows.CementedDoublet.opt_params]\n",
    "    bounds = [cemented_bounds.get(p, [None, None]) for p in windows.CementedDoublet.opt_params]\n",
    "\n",
    "    doublet = windows.CementedDoublet(Ri=Ri, Rm=Rm, Ro=Ro, h=h, t1=t1, t2=t2, h_f=h_f,\n",
    "                                      wetted_material=window_material, crown_material=crown_material,\n",
    "                                      draw=False, trace=True, draw_rays=False)\n",
    "    if draw_guess:\n",
    "        util.print_md(f\"__Initial (Guess) Parameters__\")\n",
    "        doublet.print_dims()\n",
    "                \n",
    "        fig, axs = util.ray_aberration_subplots()\n",
    "\n",
    "        # draw and ray trace the window\n",
    "        plt.sca(axs[0])\n",
    "        doublet.draw(center_circle=True, new_figure=False)\n",
    "        doublet.draw_rays(c='g')\n",
    "        \n",
    "        plt.sca(axs[1])\n",
    "        util.plot_aberrations(doublet, unit='arcmin', c='g', new_fig=False, ls='-', yloc='out', flip_axes=True,\n",
    "                              failed=False, prefix='Design Wavelength')\n",
    "        plt.show()\n",
    "\n",
    "    methods, cs, hs = ['rms_aberration', 'max_aberration'], ['r', 'b'], []\n",
    "    for opt_method, c in zip(methods, cs):\n",
    "        \n",
    "        doublet.optimize_window(opt_method, which=which_params, n_rays=21,\n",
    "                                t1_bounds=cemented_bounds.get('t_base', [None, None]),\n",
    "                                t2_bounds=cemented_bounds.get('t_crown', [None, None]))  #, n_rays=51, y_range=np.array([-3.5, 3.5]))\n",
    "        \n",
    "        util.print_md(f\"__Optimization Criteria:__ '{opt_method}'\")\n",
    "        doublet.print_dims()\n",
    "        \n",
    "        fig, axs = util.ray_aberration_subplots()\n",
    "\n",
    "        # draw and ray trace the window\n",
    "        plt.sca(axs[0])\n",
    "        doublet.draw(center_circle=True, new_figure=False)\n",
    "        doublet.draw_rays(c=c)\n",
    "\n",
    "        plt.sca(axs[1])\n",
    "        # plt.axhline(ls=':', c='k')\n",
    "        util.plot_aberrations(doublet, unit='arcmin', c=c, new_fig=False, ls='-', yloc='out', flip_axes=True,\n",
    "                              failed=False, prefix='Design Wavelength')\n",
    "        \n",
    "        \n",
    "        hs += plt.gca().lines[-1:]\n",
    "        if show_chromatic_aberration:\n",
    "            util.plot_aberrations(doublet.trace_ray_set(wavelength=400, draw=False), yloc='out', flip_axes=True,\n",
    "                                  failed=False, new_fig=False, unit='arcmin', c='y', mfc='none', ls='', prefix='400 nm')\n",
    "            util.plot_aberrations(doublet.trace_ray_set(wavelength=750, draw=False), yloc='out', flip_axes=True,\n",
    "                                  failed=False, new_fig=False, unit='arcmin', c='m', mfc='none', ls='', prefix='750 nm')\n",
    "\n",
    "        plt.show()"
   ]
  },
  {
   "cell_type": "markdown",
   "metadata": {},
   "source": [
    "# Air-spaced doublet window design"
   ]
  },
  {
   "cell_type": "code",
   "execution_count": null,
   "metadata": {},
   "outputs": [],
   "source": [
    "# define air-spaced doublet window\n",
    "Ri_w = inner_diameter / 2\n",
    "h_w = window_height\n",
    "t_w = t_airspace_window\n",
    "\n",
    "annulus = windows.Concentric(Ri_w, h_w, t_w, h_f=h_f, material=window_material)\n",
    "\n",
    "# define air-spaced doublet lens guess\n",
    "xi_l = annulus.x_max + x_airspace\n",
    "Ri_l = Ri_airspace_lens\n",
    "Ro_l = Ro_airspace_lens\n",
    "t_l = t_airspace_lens\n",
    "h_l = h_airspace_lens\n",
    "\n",
    "lens = windows.BisphericalLens(Ri_l, Ro_l, h_l, t_l, xi_l, h_f=0.)\n",
    "\n",
    "fig, axs = util.ray_aberration_subplots()\n",
    "\n",
    "# construct the doublet object\n",
    "airdoublet = windows.AirspaceDoublet(annulus, lens)\n",
    "airdoublet.trace_ray_set(draw=False)\n",
    "\n",
    "if draw_guess:\n",
    "    util.print_md(f\"__Initial (Guess) Parameters__\")\n",
    "    airdoublet.print_dims('   ')\n",
    "\n",
    "    # draw and ray trace the window\n",
    "    plt.sca(axs[0])\n",
    "    airdoublet.draw(center_circle=True, new_figure=False)\n",
    "    airdoublet.draw_rays(c='g')\n",
    "\n",
    "    plt.sca(axs[1])\n",
    "    util.plot_aberrations(airdoublet, unit='arcmin', c='g', new_fig=False, ls='-', yloc='out', flip_axes=True,\n",
    "                          failed=False, prefix='Design Wavelength')\n",
    "    plt.show()\n"
   ]
  },
  {
   "cell_type": "code",
   "execution_count": null,
   "metadata": {},
   "outputs": [],
   "source": []
  }
 ],
 "metadata": {
  "kernelspec": {
   "display_name": "p37susalab",
   "language": "python",
   "name": "p37susalab"
  },
  "language_info": {
   "codemirror_mode": {
    "name": "ipython",
    "version": 3
   },
   "file_extension": ".py",
   "mimetype": "text/x-python",
   "name": "python",
   "nbconvert_exporter": "python",
   "pygments_lexer": "ipython3",
   "version": "3.7.7"
  }
 },
 "nbformat": 4,
 "nbformat_minor": 1
}
